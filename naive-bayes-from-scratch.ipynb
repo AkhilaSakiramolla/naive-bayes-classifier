{
 "cells": [
  {
   "cell_type": "markdown",
   "metadata": {
    "id": "IVhprHRqDld9"
   },
   "source": [
    "# Naive Bayes Classifier"
   ]
  },
  {
   "cell_type": "markdown",
   "metadata": {
    "id": "1ncaHc9rUZTN"
   },
   "source": [
    "## Importing required libraries"
   ]
  },
  {
   "cell_type": "code",
   "execution_count": 1,
   "metadata": {
    "id": "5Bcnhn_hUFj0"
   },
   "outputs": [],
   "source": [
    "# To load breast cancer dataset\n",
    "from sklearn import datasets  \n",
    "\n",
    "import pandas as pd\n",
    "import numpy as np\n",
    "import random\n",
    "import matplotlib.pyplot as plt\n",
    "from matplotlib import pyplot\n",
    "\n",
    "from sklearn.model_selection import train_test_split\n",
    "from sklearn.preprocessing import StandardScaler\n",
    "from sklearn.linear_model import LogisticRegression\n",
    "from sklearn.metrics import confusion_matrix\n",
    "from sklearn.metrics import accuracy_score\n",
    "import time\n",
    "\n",
    "# To execute a cell line by line\n",
    "from IPython.core.interactiveshell import InteractiveShell\n",
    "InteractiveShell.ast_node_interactivity = \"all\"\n",
    "\n",
    "import warnings\n",
    "warnings.filterwarnings('ignore')"
   ]
  },
  {
   "cell_type": "markdown",
   "metadata": {
    "id": "9AO2KzjvDsj8"
   },
   "source": [
    "### Import Data"
   ]
  },
  {
   "cell_type": "code",
   "execution_count": 57,
   "metadata": {
    "colab": {
     "base_uri": "https://localhost:8080/",
     "height": 222
    },
    "id": "aOulkeVzDvnK",
    "outputId": "ab1ce785-f0fc-4738-e454-e9b520652bd4"
   },
   "outputs": [
    {
     "name": "stdout",
     "output_type": "stream",
     "text": [
      "The number of rows in df_boys : 1000\n"
     ]
    },
    {
     "data": {
      "text/html": [
       "<div>\n",
       "<style scoped>\n",
       "    .dataframe tbody tr th:only-of-type {\n",
       "        vertical-align: middle;\n",
       "    }\n",
       "\n",
       "    .dataframe tbody tr th {\n",
       "        vertical-align: top;\n",
       "    }\n",
       "\n",
       "    .dataframe thead th {\n",
       "        text-align: right;\n",
       "    }\n",
       "</style>\n",
       "<table border=\"1\" class=\"dataframe\">\n",
       "  <thead>\n",
       "    <tr style=\"text-align: right;\">\n",
       "      <th></th>\n",
       "      <th>x</th>\n",
       "      <th>label</th>\n",
       "    </tr>\n",
       "  </thead>\n",
       "  <tbody>\n",
       "    <tr>\n",
       "      <th>1</th>\n",
       "      <td>Otho</td>\n",
       "      <td>-1</td>\n",
       "    </tr>\n",
       "    <tr>\n",
       "      <th>2</th>\n",
       "      <td>Caswell</td>\n",
       "      <td>-1</td>\n",
       "    </tr>\n",
       "    <tr>\n",
       "      <th>3</th>\n",
       "      <td>Deforest</td>\n",
       "      <td>-1</td>\n",
       "    </tr>\n",
       "    <tr>\n",
       "      <th>4</th>\n",
       "      <td>Eddy</td>\n",
       "      <td>-1</td>\n",
       "    </tr>\n",
       "    <tr>\n",
       "      <th>5</th>\n",
       "      <td>Corbett</td>\n",
       "      <td>-1</td>\n",
       "    </tr>\n",
       "  </tbody>\n",
       "</table>\n",
       "</div>"
      ],
      "text/plain": [
       "          x label\n",
       "1      Otho    -1\n",
       "2   Caswell    -1\n",
       "3  Deforest    -1\n",
       "4      Eddy    -1\n",
       "5   Corbett    -1"
      ]
     },
     "execution_count": 57,
     "metadata": {},
     "output_type": "execute_result"
    }
   ],
   "source": [
    "# Loading boys_names.csv dataset \n",
    "df_boys = pd.read_csv('boy_names.csv', index_col=0)\n",
    "\n",
    "# Adding a label '-1' to indicate a boy's name\n",
    "df_boys['label'] = '-1'\n",
    "print(\"The number of rows in df_boys : {}\".format(df_boys.shape[0]))\n",
    "df_boys.head()"
   ]
  },
  {
   "cell_type": "code",
   "execution_count": 58,
   "metadata": {
    "colab": {
     "base_uri": "https://localhost:8080/",
     "height": 222
    },
    "id": "Xq5xqHXPD8Qo",
    "outputId": "9e3bf008-6ed8-43fb-cefd-e6219bfca63f"
   },
   "outputs": [
    {
     "name": "stdout",
     "output_type": "stream",
     "text": [
      "The number of rows in df_girls : 1000\n"
     ]
    },
    {
     "data": {
      "text/html": [
       "<div>\n",
       "<style scoped>\n",
       "    .dataframe tbody tr th:only-of-type {\n",
       "        vertical-align: middle;\n",
       "    }\n",
       "\n",
       "    .dataframe tbody tr th {\n",
       "        vertical-align: top;\n",
       "    }\n",
       "\n",
       "    .dataframe thead th {\n",
       "        text-align: right;\n",
       "    }\n",
       "</style>\n",
       "<table border=\"1\" class=\"dataframe\">\n",
       "  <thead>\n",
       "    <tr style=\"text-align: right;\">\n",
       "      <th></th>\n",
       "      <th>x</th>\n",
       "      <th>label</th>\n",
       "    </tr>\n",
       "  </thead>\n",
       "  <tbody>\n",
       "    <tr>\n",
       "      <th>1</th>\n",
       "      <td>Elaina</td>\n",
       "      <td>+1</td>\n",
       "    </tr>\n",
       "    <tr>\n",
       "      <th>2</th>\n",
       "      <td>Deedee</td>\n",
       "      <td>+1</td>\n",
       "    </tr>\n",
       "    <tr>\n",
       "      <th>3</th>\n",
       "      <td>Aaliyah</td>\n",
       "      <td>+1</td>\n",
       "    </tr>\n",
       "    <tr>\n",
       "      <th>4</th>\n",
       "      <td>Kathey</td>\n",
       "      <td>+1</td>\n",
       "    </tr>\n",
       "    <tr>\n",
       "      <th>5</th>\n",
       "      <td>Antonetta</td>\n",
       "      <td>+1</td>\n",
       "    </tr>\n",
       "  </tbody>\n",
       "</table>\n",
       "</div>"
      ],
      "text/plain": [
       "           x label\n",
       "1     Elaina    +1\n",
       "2     Deedee    +1\n",
       "3    Aaliyah    +1\n",
       "4     Kathey    +1\n",
       "5  Antonetta    +1"
      ]
     },
     "execution_count": 58,
     "metadata": {},
     "output_type": "execute_result"
    }
   ],
   "source": [
    "# Loading girls_names.csv dataset \n",
    "df_girls = pd.read_csv('girl_names.csv', index_col=0)\n",
    "\n",
    "# Adding a label '+1' to indicate a boy's name\n",
    "df_girls['label'] = '+1'\n",
    "print(\"The number of rows in df_girls : {}\".format(df_girls.shape[0]))\n",
    "df_girls.head()"
   ]
  },
  {
   "cell_type": "code",
   "execution_count": 59,
   "metadata": {
    "colab": {
     "base_uri": "https://localhost:8080/",
     "height": 222
    },
    "id": "6EJczDVYD_fy",
    "outputId": "158ee4d2-ef3c-4175-bfb5-755e6fe5c20c"
   },
   "outputs": [
    {
     "name": "stdout",
     "output_type": "stream",
     "text": [
      "The number of rows in data : 2000\n"
     ]
    },
    {
     "data": {
      "text/html": [
       "<div>\n",
       "<style scoped>\n",
       "    .dataframe tbody tr th:only-of-type {\n",
       "        vertical-align: middle;\n",
       "    }\n",
       "\n",
       "    .dataframe tbody tr th {\n",
       "        vertical-align: top;\n",
       "    }\n",
       "\n",
       "    .dataframe thead th {\n",
       "        text-align: right;\n",
       "    }\n",
       "</style>\n",
       "<table border=\"1\" class=\"dataframe\">\n",
       "  <thead>\n",
       "    <tr style=\"text-align: right;\">\n",
       "      <th></th>\n",
       "      <th>x</th>\n",
       "      <th>label</th>\n",
       "    </tr>\n",
       "  </thead>\n",
       "  <tbody>\n",
       "    <tr>\n",
       "      <th>0</th>\n",
       "      <td>Otho</td>\n",
       "      <td>-1</td>\n",
       "    </tr>\n",
       "    <tr>\n",
       "      <th>1</th>\n",
       "      <td>Caswell</td>\n",
       "      <td>-1</td>\n",
       "    </tr>\n",
       "    <tr>\n",
       "      <th>2</th>\n",
       "      <td>Deforest</td>\n",
       "      <td>-1</td>\n",
       "    </tr>\n",
       "    <tr>\n",
       "      <th>3</th>\n",
       "      <td>Eddy</td>\n",
       "      <td>-1</td>\n",
       "    </tr>\n",
       "    <tr>\n",
       "      <th>4</th>\n",
       "      <td>Corbett</td>\n",
       "      <td>-1</td>\n",
       "    </tr>\n",
       "  </tbody>\n",
       "</table>\n",
       "</div>"
      ],
      "text/plain": [
       "          x label\n",
       "0      Otho    -1\n",
       "1   Caswell    -1\n",
       "2  Deforest    -1\n",
       "3      Eddy    -1\n",
       "4   Corbett    -1"
      ]
     },
     "execution_count": 59,
     "metadata": {},
     "output_type": "execute_result"
    }
   ],
   "source": [
    "# Joining both the datasets to create a common dataset with names and respective labels\n",
    "df_names = pd.concat([df_boys,df_girls])\n",
    "print(\"The number of rows in data : {}\".format(df_names.shape[0]))\n",
    "df_names = df_names.reset_index(drop = True)\n",
    "df_names.head()"
   ]
  },
  {
   "cell_type": "markdown",
   "metadata": {
    "id": "OPSsefuWEPxC"
   },
   "source": [
    "### Data Preprocessing"
   ]
  },
  {
   "cell_type": "code",
   "execution_count": 60,
   "metadata": {
    "id": "ycQXoydTD_9H"
   },
   "outputs": [],
   "source": [
    "# Renaming the name column\n",
    "df_names = df_names.rename(columns={'x': 'name'})"
   ]
  },
  {
   "cell_type": "code",
   "execution_count": 61,
   "metadata": {
    "id": "NVBBQKF8EAFr"
   },
   "outputs": [],
   "source": [
    "# Converting all the characters to lower case in all names\n",
    "df_names['name'] = df_names['name'].str.lower()"
   ]
  },
  {
   "cell_type": "code",
   "execution_count": 62,
   "metadata": {
    "id": "wJ-de9WtEAMi"
   },
   "outputs": [],
   "source": [
    "# Removing any white spaces in all the names\n",
    "df_names['name'] = df_names['name'].str.strip()"
   ]
  },
  {
   "cell_type": "markdown",
   "metadata": {
    "id": "J1PVVlzrE-8Z"
   },
   "source": [
    "Creating additional features using existing feature\n",
    "\n",
    "I have created 4 additional features using the 'name' feature\n",
    "1. #Consonants : To count number of consonants in every name\n",
    "2. #Vowels : To count number of vowels in every name\n",
    "3. Name starting with a consonant? : To check if a name starts with a consonant\n",
    "4. Name starting with a vowel? : To check if a name starts with a vowel"
   ]
  },
  {
   "cell_type": "code",
   "execution_count": 63,
   "metadata": {
    "id": "vHLASXnQEaYa"
   },
   "outputs": [],
   "source": [
    "# Initialising columns for additional features\n",
    "def colInit(df):\n",
    "  df['#Consonants'] = 0\n",
    "  df['#Vowels'] = 0\n",
    "  df['Name starting with a consonant?'] = 0\n",
    "  df['Name starting with a vowel?'] = 0\n",
    "  return df"
   ]
  },
  {
   "cell_type": "code",
   "execution_count": 64,
   "metadata": {
    "id": "u0l6xnSEJNgN"
   },
   "outputs": [],
   "source": [
    "df_names = colInit(df_names)  "
   ]
  },
  {
   "cell_type": "code",
   "execution_count": 65,
   "metadata": {
    "id": "TERtmK4UEalf"
   },
   "outputs": [],
   "source": [
    "# To count numner of consonants and vowels in every name (code citation : code4coding.com)\n",
    "def calc_count(df):\n",
    "  for i in range(len(df)):\n",
    "      name = df.iloc[i]['name']\n",
    "      vowels=0\n",
    "      consonants=0\n",
    "      # Checking each letter in a name if it is a consonant or a vowel\n",
    "      for letter in name:\n",
    "          if (letter == 'a'or letter == 'e'or letter == 'i' or letter == 'o'or letter == 'u'):\n",
    "                vowels=vowels+1;#vowel counter is incremented by 1\n",
    "          else:\n",
    "              consonants=consonants+1;\n",
    "          # Setting the count in the columns based on above calculations\n",
    "          df.loc[i,'#Consonants'] = consonants\n",
    "          df.loc[i,'#Vowels'] = vowels\n",
    "  return df"
   ]
  },
  {
   "cell_type": "code",
   "execution_count": 66,
   "metadata": {
    "id": "EWOrSHerEawn"
   },
   "outputs": [],
   "source": [
    "# Function to checck if the name is starting with a vowel or consonant (code citation : code4coding.com)\n",
    "def calc_nameStart(df):\n",
    "  for i in range(len(df)):\n",
    "    name = df.iloc[i]['name']\n",
    "    # Checking if the first letter in a name it is a consonant or a vowel\n",
    "    if (name[0] == 'a'or name[0] == 'e'or name[0] == 'i' or name[0] == 'o' or name[0] == 'u'):\n",
    "          df.loc[i,'Name starting with a vowel?'] = 1\n",
    "    else:\n",
    "      df.loc[i,'Name starting with a consonant?'] = 1\n",
    "  return df"
   ]
  },
  {
   "cell_type": "code",
   "execution_count": 67,
   "metadata": {
    "colab": {
     "base_uri": "https://localhost:8080/",
     "height": 204
    },
    "id": "p3W0kNA4Ea6w",
    "outputId": "eae962e5-d625-43c6-a57d-483550d98169"
   },
   "outputs": [
    {
     "data": {
      "text/html": [
       "<div>\n",
       "<style scoped>\n",
       "    .dataframe tbody tr th:only-of-type {\n",
       "        vertical-align: middle;\n",
       "    }\n",
       "\n",
       "    .dataframe tbody tr th {\n",
       "        vertical-align: top;\n",
       "    }\n",
       "\n",
       "    .dataframe thead th {\n",
       "        text-align: right;\n",
       "    }\n",
       "</style>\n",
       "<table border=\"1\" class=\"dataframe\">\n",
       "  <thead>\n",
       "    <tr style=\"text-align: right;\">\n",
       "      <th></th>\n",
       "      <th>name</th>\n",
       "      <th>label</th>\n",
       "      <th>#Consonants</th>\n",
       "      <th>#Vowels</th>\n",
       "      <th>Name starting with a consonant?</th>\n",
       "      <th>Name starting with a vowel?</th>\n",
       "    </tr>\n",
       "  </thead>\n",
       "  <tbody>\n",
       "    <tr>\n",
       "      <th>0</th>\n",
       "      <td>otho</td>\n",
       "      <td>-1</td>\n",
       "      <td>2</td>\n",
       "      <td>2</td>\n",
       "      <td>0</td>\n",
       "      <td>1</td>\n",
       "    </tr>\n",
       "    <tr>\n",
       "      <th>1</th>\n",
       "      <td>caswell</td>\n",
       "      <td>-1</td>\n",
       "      <td>5</td>\n",
       "      <td>2</td>\n",
       "      <td>1</td>\n",
       "      <td>0</td>\n",
       "    </tr>\n",
       "    <tr>\n",
       "      <th>2</th>\n",
       "      <td>deforest</td>\n",
       "      <td>-1</td>\n",
       "      <td>5</td>\n",
       "      <td>3</td>\n",
       "      <td>1</td>\n",
       "      <td>0</td>\n",
       "    </tr>\n",
       "    <tr>\n",
       "      <th>3</th>\n",
       "      <td>eddy</td>\n",
       "      <td>-1</td>\n",
       "      <td>3</td>\n",
       "      <td>1</td>\n",
       "      <td>0</td>\n",
       "      <td>1</td>\n",
       "    </tr>\n",
       "    <tr>\n",
       "      <th>4</th>\n",
       "      <td>corbett</td>\n",
       "      <td>-1</td>\n",
       "      <td>5</td>\n",
       "      <td>2</td>\n",
       "      <td>1</td>\n",
       "      <td>0</td>\n",
       "    </tr>\n",
       "  </tbody>\n",
       "</table>\n",
       "</div>"
      ],
      "text/plain": [
       "       name label  ...  Name starting with a consonant?  Name starting with a vowel?\n",
       "0      otho    -1  ...                                0                            1\n",
       "1   caswell    -1  ...                                1                            0\n",
       "2  deforest    -1  ...                                1                            0\n",
       "3      eddy    -1  ...                                0                            1\n",
       "4   corbett    -1  ...                                1                            0\n",
       "\n",
       "[5 rows x 6 columns]"
      ]
     },
     "execution_count": 67,
     "metadata": {},
     "output_type": "execute_result"
    }
   ],
   "source": [
    "df_names = calc_count(df_names)\n",
    "df_names = calc_nameStart(df_names)\n",
    "df_names.head()"
   ]
  },
  {
   "cell_type": "markdown",
   "metadata": {
    "id": "Ynr5brQcEpsq"
   },
   "source": [
    "### Implementing Naive Bayes from scratch"
   ]
  },
  {
   "cell_type": "markdown",
   "metadata": {
    "id": "LbZK9wb5FEXY"
   },
   "source": [
    "We need to estimate the likelihood of the features and as all the features are continuous, we can choose Gaussian distribution for this purpose. Gaussian Density function is given by:\n",
    "\n",
    "> f\n",
    "(\n",
    "x\n",
    ")\n",
    "=\n",
    "(\n",
    "1\n",
    "/\n",
    "s\n",
    "q\n",
    "r\n",
    "t\n",
    "(\n",
    "2\n",
    "∗\n",
    "P\n",
    "I\n",
    ")\n",
    "∗\n",
    "s\n",
    "i\n",
    "g\n",
    "m\n",
    "a\n",
    ")\n",
    "∗\n",
    "e\n",
    "x\n",
    "p\n",
    "(\n",
    "−\n",
    "(\n",
    "(\n",
    "x\n",
    "−\n",
    "m\n",
    "e\n",
    "a\n",
    "n\n",
    ")\n",
    "2\n",
    "/\n",
    "(\n",
    "2\n",
    "∗\n",
    "s\n",
    "i\n",
    "g\n",
    "m\n",
    "a\n",
    "2\n",
    ")\n",
    ")\n",
    ")\n",
    "\n",
    "> where μ is mean, σ² is variance, σ is square root of variance (standard deviation).\n",
    "\n",
    "For this, we need to first calculate mean and variance for each feature and calculate Gaussian density function"
   ]
  },
  {
   "cell_type": "code",
   "execution_count": 68,
   "metadata": {
    "id": "XQLLpV1zEltU"
   },
   "outputs": [],
   "source": [
    "# Calculating the count of boys, girls and total names\n",
    "boys_count = df_names['label'][df_names['label'] == '-1'].count()\n",
    "girls_count = df_names['label'][df_names['label'] == '+1'].count()\n",
    "total_count = df_names['label'].count()"
   ]
  },
  {
   "cell_type": "code",
   "execution_count": 69,
   "metadata": {
    "id": "rVPSTuL8ElwV"
   },
   "outputs": [],
   "source": [
    "# Calculating the probability of a name being girl or boy\n",
    "boys_prob = boys_count/total_count\n",
    "girls_prob = girls_count/total_count"
   ]
  },
  {
   "cell_type": "code",
   "execution_count": 70,
   "metadata": {
    "colab": {
     "base_uri": "https://localhost:8080/",
     "height": 267
    },
    "id": "TEWw1fT3Elyk",
    "outputId": "9ceb910d-f53a-4ce3-b284-b4ac1a6109cb"
   },
   "outputs": [
    {
     "data": {
      "text/html": [
       "<div>\n",
       "<style scoped>\n",
       "    .dataframe tbody tr th:only-of-type {\n",
       "        vertical-align: middle;\n",
       "    }\n",
       "\n",
       "    .dataframe tbody tr th {\n",
       "        vertical-align: top;\n",
       "    }\n",
       "\n",
       "    .dataframe thead th {\n",
       "        text-align: right;\n",
       "    }\n",
       "</style>\n",
       "<table border=\"1\" class=\"dataframe\">\n",
       "  <thead>\n",
       "    <tr style=\"text-align: right;\">\n",
       "      <th></th>\n",
       "      <th>#Consonants</th>\n",
       "      <th>#Vowels</th>\n",
       "      <th>Name starting with a consonant?</th>\n",
       "      <th>Name starting with a vowel?</th>\n",
       "    </tr>\n",
       "    <tr>\n",
       "      <th>label</th>\n",
       "      <th></th>\n",
       "      <th></th>\n",
       "      <th></th>\n",
       "      <th></th>\n",
       "    </tr>\n",
       "  </thead>\n",
       "  <tbody>\n",
       "    <tr>\n",
       "      <th>+1</th>\n",
       "      <td>3.416</td>\n",
       "      <td>2.660</td>\n",
       "      <td>0.830</td>\n",
       "      <td>0.170</td>\n",
       "    </tr>\n",
       "    <tr>\n",
       "      <th>-1</th>\n",
       "      <td>3.580</td>\n",
       "      <td>2.213</td>\n",
       "      <td>0.805</td>\n",
       "      <td>0.195</td>\n",
       "    </tr>\n",
       "  </tbody>\n",
       "</table>\n",
       "</div>"
      ],
      "text/plain": [
       "       #Consonants  ...  Name starting with a vowel?\n",
       "label               ...                             \n",
       "+1           3.416  ...                        0.170\n",
       "-1           3.580  ...                        0.195\n",
       "\n",
       "[2 rows x 4 columns]"
      ]
     },
     "execution_count": 70,
     "metadata": {},
     "output_type": "execute_result"
    },
    {
     "data": {
      "text/html": [
       "<div>\n",
       "<style scoped>\n",
       "    .dataframe tbody tr th:only-of-type {\n",
       "        vertical-align: middle;\n",
       "    }\n",
       "\n",
       "    .dataframe tbody tr th {\n",
       "        vertical-align: top;\n",
       "    }\n",
       "\n",
       "    .dataframe thead th {\n",
       "        text-align: right;\n",
       "    }\n",
       "</style>\n",
       "<table border=\"1\" class=\"dataframe\">\n",
       "  <thead>\n",
       "    <tr style=\"text-align: right;\">\n",
       "      <th></th>\n",
       "      <th>#Consonants</th>\n",
       "      <th>#Vowels</th>\n",
       "      <th>Name starting with a consonant?</th>\n",
       "      <th>Name starting with a vowel?</th>\n",
       "    </tr>\n",
       "    <tr>\n",
       "      <th>label</th>\n",
       "      <th></th>\n",
       "      <th></th>\n",
       "      <th></th>\n",
       "      <th></th>\n",
       "    </tr>\n",
       "  </thead>\n",
       "  <tbody>\n",
       "    <tr>\n",
       "      <th>+1</th>\n",
       "      <td>1.248192</td>\n",
       "      <td>0.737137</td>\n",
       "      <td>0.141241</td>\n",
       "      <td>0.141241</td>\n",
       "    </tr>\n",
       "    <tr>\n",
       "      <th>-1</th>\n",
       "      <td>1.180781</td>\n",
       "      <td>0.632263</td>\n",
       "      <td>0.157132</td>\n",
       "      <td>0.157132</td>\n",
       "    </tr>\n",
       "  </tbody>\n",
       "</table>\n",
       "</div>"
      ],
      "text/plain": [
       "       #Consonants  ...  Name starting with a vowel?\n",
       "label               ...                             \n",
       "+1        1.248192  ...                     0.141241\n",
       "-1        1.180781  ...                     0.157132\n",
       "\n",
       "[2 rows x 4 columns]"
      ]
     },
     "execution_count": 70,
     "metadata": {},
     "output_type": "execute_result"
    }
   ],
   "source": [
    "# Calculating the mean and variance for each feature based on the label\n",
    "calc_mean = df_names.groupby('label').mean()\n",
    "calc_variance = df_names.groupby('label').var()\n",
    "calc_mean\n",
    "calc_variance"
   ]
  },
  {
   "cell_type": "code",
   "execution_count": 71,
   "metadata": {
    "id": "GG3En-ThEl8D"
   },
   "outputs": [],
   "source": [
    "# Mean of each feature given it belongs to 'boys' class\n",
    "boy_consCount_mean = calc_mean['#Consonants'][calc_mean.index == '-1'].values[0]\n",
    "boy_vowCount_mean = calc_mean['#Vowels'][calc_mean.index == '-1'].values[0]\n",
    "boy_consStart_mean = calc_mean['Name starting with a consonant?'][calc_mean.index == '-1'].values[0]\n",
    "boy_vowStart_mean = calc_mean['Name starting with a vowel?'][calc_mean.index == '-1'].values[0]\n",
    "\n",
    "# Variance Mean of each feature given it belongs to 'boys' class\n",
    "boy_consCount_var = calc_variance['#Consonants'][calc_variance.index == '-1'].values[0]\n",
    "boy_vowCount_var = calc_variance['#Vowels'][calc_variance.index == '-1'].values[0]\n",
    "boy_consStart_var = calc_variance['Name starting with a consonant?'][calc_variance.index == '-1'].values[0]\n",
    "boy_vowStart_var = calc_variance['Name starting with a vowel?'][calc_variance.index == '-1'].values[0]\n",
    "\n",
    "# Mean of each feature given it belongs to 'girls' class\n",
    "girl_consCount_mean = calc_mean['#Consonants'][calc_mean.index == '+1'].values[0]\n",
    "girl_vowCount_mean = calc_mean['#Vowels'][calc_mean.index == '+1'].values[0]\n",
    "girl_consStart_mean = calc_mean['Name starting with a consonant?'][calc_mean.index == '+1'].values[0]\n",
    "girl_vowStart_mean = calc_mean['Name starting with a vowel?'][calc_mean.index == '+1'].values[0]\n",
    "\n",
    "# Variance Mean of each feature given it belongs to 'girls' class\n",
    "girl_consCount_var = calc_variance['#Consonants'][calc_variance.index == '+1'].values[0]\n",
    "girl_vowCount_var = calc_variance['#Vowels'][calc_variance.index == '+1'].values[0]\n",
    "girl_consStart_var = calc_variance['Name starting with a consonant?'][calc_variance.index == '+1'].values[0]\n",
    "girl_vowStart_var = calc_variance['Name starting with a vowel?'][calc_variance.index == '+1'].values[0]"
   ]
  },
  {
   "cell_type": "code",
   "execution_count": 72,
   "metadata": {
    "id": "qvKAE4ZuEl5Y"
   },
   "outputs": [],
   "source": [
    "# Function to calculate the probability density of each attribute of the terms of the likelihood\n",
    "def calc_prob(x, mean, variance):\n",
    "  # Input the arguments into a probability density function\n",
    "  prob = 1/(np.sqrt(2*np.pi*variance)) * np.exp((-(x-mean)**2)/(2*variance))\n",
    "  return prob"
   ]
  },
  {
   "cell_type": "code",
   "execution_count": 86,
   "metadata": {
    "id": "2zjpb2CMPSK-"
   },
   "outputs": [],
   "source": [
    "X = df_names.loc[:,df_names.columns != 'label']\n",
    "y = df_names['label']"
   ]
  },
  {
   "cell_type": "code",
   "execution_count": 87,
   "metadata": {
    "id": "fe2FiQwURtR4"
   },
   "outputs": [],
   "source": [
    "# Calculate accuracy percentage\n",
    "def accuracy_metric(actual, predicted):\n",
    "\tcorrect = 0\n",
    "\tfor i in actual.index:\n",
    "\t\tif actual[i] == predicted[i]:\n",
    "\t\t\tcorrect += 1\n",
    "\treturn correct / float(len(actual)) * 100.0"
   ]
  },
  {
   "cell_type": "markdown",
   "metadata": {
    "id": "aAfovH0sGUvd"
   },
   "source": [
    "Here we have built the Naive Bayes clasifier usin the existing data. Now we can predict the label for train data and calculate accuracy. I'm calculating the probability density of each feature of the terms of likelihood. For example:"
   ]
  },
  {
   "cell_type": "markdown",
   "metadata": {
    "id": "GWyVUx_tGOgz"
   },
   "source": [
    "![CodeCogsEqn.png](data:image/png;base64,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)"
   ]
  },
  {
   "cell_type": "code",
   "execution_count": 88,
   "metadata": {
    "colab": {
     "base_uri": "https://localhost:8080/"
    },
    "id": "TYDHhpD8PJmA",
    "outputId": "597072ca-c641-42f2-a452-b2c6ac5a4a9a"
   },
   "outputs": [
    {
     "name": "stdout",
     "output_type": "stream",
     "text": [
      "The accuracy on test dataset is 62.95%\n"
     ]
    }
   ],
   "source": [
    "X['label'] = 0\n",
    "\n",
    "for i in range(len(X)):\n",
    "  prob_boys = boys_prob * calc_prob(X['#Consonants'][i], boy_consCount_mean, boy_consCount_var) * \\\n",
    "  calc_prob(X['#Vowels'][i], boy_vowCount_mean, boy_vowCount_var) * \\\n",
    "  calc_prob(X['Name starting with a consonant?'][i], boy_consStart_mean, boy_consStart_var) * \\\n",
    "  calc_prob(X['Name starting with a vowel?'][i], boy_vowStart_mean, boy_vowStart_var) \n",
    "\n",
    "  prob_girls = girls_prob * calc_prob(X['#Consonants'][i], girl_consCount_mean, girl_consCount_var) * \\\n",
    "  calc_prob(X['#Vowels'][i], girl_vowCount_mean, girl_vowCount_var) * \\\n",
    "  calc_prob(X['Name starting with a consonant?'][i], girl_consStart_mean, girl_consStart_var) * \\\n",
    "  calc_prob(X['Name starting with a vowel?'][i], girl_vowStart_mean, girl_vowStart_var) \n",
    "\n",
    "  if prob_boys > prob_girls:\n",
    "    X.loc[i,'label'] = '-1'\n",
    "  else:\n",
    "    X.loc[i,'label'] = '+1'\n",
    "\n",
    "accuracy = accuracy_metric(y,X['label'])\n",
    "print(\"The accuracy on test dataset is {:.2f}%\".format(accuracy))"
   ]
  },
  {
   "cell_type": "markdown",
   "metadata": {
    "id": "KKP6dwl9MMq1"
   },
   "source": [
    "### Labelling the test data"
   ]
  },
  {
   "cell_type": "code",
   "execution_count": 89,
   "metadata": {
    "colab": {
     "base_uri": "https://localhost:8080/"
    },
    "id": "huD28IRwIFM1",
    "outputId": "6ab7ee84-59f4-4b98-d483-4dfa7290e50e"
   },
   "outputs": [
    {
     "name": "stdout",
     "output_type": "stream",
     "text": [
      "The number of rows in df_girls : 100\n"
     ]
    }
   ],
   "source": [
    "# Loading test_names.csv dataset \n",
    "df_test = pd.read_csv('test_names.csv', index_col=0)\n",
    "print(\"The number of rows in df_girls : {}\".format(df_test.shape[0]))"
   ]
  },
  {
   "cell_type": "code",
   "execution_count": 90,
   "metadata": {
    "colab": {
     "base_uri": "https://localhost:8080/",
     "height": 111
    },
    "id": "AKJz3XjdIdxm",
    "outputId": "ba9f7537-d746-4eb0-c8ca-53fff704f443"
   },
   "outputs": [
    {
     "data": {
      "text/html": [
       "<div>\n",
       "<style scoped>\n",
       "    .dataframe tbody tr th:only-of-type {\n",
       "        vertical-align: middle;\n",
       "    }\n",
       "\n",
       "    .dataframe tbody tr th {\n",
       "        vertical-align: top;\n",
       "    }\n",
       "\n",
       "    .dataframe thead th {\n",
       "        text-align: right;\n",
       "    }\n",
       "</style>\n",
       "<table border=\"1\" class=\"dataframe\">\n",
       "  <thead>\n",
       "    <tr style=\"text-align: right;\">\n",
       "      <th></th>\n",
       "      <th>x</th>\n",
       "      <th>#Consonants</th>\n",
       "      <th>#Vowels</th>\n",
       "      <th>Name starting with a consonant?</th>\n",
       "      <th>Name starting with a vowel?</th>\n",
       "    </tr>\n",
       "  </thead>\n",
       "  <tbody>\n",
       "    <tr>\n",
       "      <th>1</th>\n",
       "      <td>Brittani</td>\n",
       "      <td>0</td>\n",
       "      <td>0</td>\n",
       "      <td>0</td>\n",
       "      <td>0</td>\n",
       "    </tr>\n",
       "    <tr>\n",
       "      <th>2</th>\n",
       "      <td>Brandin</td>\n",
       "      <td>0</td>\n",
       "      <td>0</td>\n",
       "      <td>0</td>\n",
       "      <td>0</td>\n",
       "    </tr>\n",
       "  </tbody>\n",
       "</table>\n",
       "</div>"
      ],
      "text/plain": [
       "          x  ...  Name starting with a vowel?\n",
       "1  Brittani  ...                            0\n",
       "2   Brandin  ...                            0\n",
       "\n",
       "[2 rows x 5 columns]"
      ]
     },
     "execution_count": 90,
     "metadata": {},
     "output_type": "execute_result"
    }
   ],
   "source": [
    "df_test = colInit(df_test)\n",
    "df_test.head(2)"
   ]
  },
  {
   "cell_type": "code",
   "execution_count": 91,
   "metadata": {
    "id": "YZCsCOuPIeA8"
   },
   "outputs": [],
   "source": [
    "# Renaming the name column\n",
    "df_test = df_test.rename(columns={'x': 'name'})"
   ]
  },
  {
   "cell_type": "code",
   "execution_count": 92,
   "metadata": {
    "id": "fHIpg0zwIePU"
   },
   "outputs": [],
   "source": [
    "# Converting all the characters to lower case in all names\n",
    "df_test['name'] = df_test['name'].str.lower()"
   ]
  },
  {
   "cell_type": "code",
   "execution_count": 93,
   "metadata": {
    "id": "IzihMTyTIebD"
   },
   "outputs": [],
   "source": [
    "# Removing any white spaces in all the names\n",
    "df_test['name'] = df_test['name'].str.strip()"
   ]
  },
  {
   "cell_type": "code",
   "execution_count": 94,
   "metadata": {
    "id": "nwslqSLRNX2A"
   },
   "outputs": [],
   "source": [
    "df_test['label'] = 0\n",
    "\n",
    "for i in df_test.index:\n",
    "  prob_boys = boys_prob * calc_prob(df_test['#Consonants'][i], boy_consCount_mean, boy_consCount_var) * \\\n",
    "  calc_prob(df_test['#Vowels'][i], boy_vowCount_mean, boy_vowCount_var) * \\\n",
    "  calc_prob(df_test['Name starting with a consonant?'][i], boy_consStart_mean, boy_consStart_var) * \\\n",
    "  calc_prob(df_test['Name starting with a vowel?'][i], boy_vowStart_mean, boy_vowStart_var) \n",
    "\n",
    "  prob_girls = girls_prob * calc_prob(df_test['#Consonants'][i], girl_consCount_mean, girl_consCount_var) * \\\n",
    "  calc_prob(df_test['#Vowels'][i], girl_vowCount_mean, girl_vowCount_var) * \\\n",
    "  calc_prob(df_test['Name starting with a consonant?'][i], girl_consStart_mean, girl_consStart_var) * \\\n",
    "  calc_prob(df_test['Name starting with a vowel?'][i], girl_vowStart_mean, girl_vowStart_var) \n",
    "\n",
    "  if prob_boys > prob_girls:\n",
    "    df_test.loc[i,'label'] = '-1'\n",
    "  else:\n",
    "    df_test.loc[i,'label'] = '+1'"
   ]
  },
  {
   "cell_type": "code",
   "execution_count": 95,
   "metadata": {
    "colab": {
     "base_uri": "https://localhost:8080/",
     "height": 204
    },
    "id": "H7MkKS7NIdbv",
    "outputId": "8ead3e20-ba8e-496b-8498-d884bcb7f5cb"
   },
   "outputs": [
    {
     "data": {
      "text/html": [
       "<div>\n",
       "<style scoped>\n",
       "    .dataframe tbody tr th:only-of-type {\n",
       "        vertical-align: middle;\n",
       "    }\n",
       "\n",
       "    .dataframe tbody tr th {\n",
       "        vertical-align: top;\n",
       "    }\n",
       "\n",
       "    .dataframe thead th {\n",
       "        text-align: right;\n",
       "    }\n",
       "</style>\n",
       "<table border=\"1\" class=\"dataframe\">\n",
       "  <thead>\n",
       "    <tr style=\"text-align: right;\">\n",
       "      <th></th>\n",
       "      <th>name</th>\n",
       "      <th>#Consonants</th>\n",
       "      <th>#Vowels</th>\n",
       "      <th>Name starting with a consonant?</th>\n",
       "      <th>Name starting with a vowel?</th>\n",
       "      <th>label</th>\n",
       "    </tr>\n",
       "  </thead>\n",
       "  <tbody>\n",
       "    <tr>\n",
       "      <th>1</th>\n",
       "      <td>brittani</td>\n",
       "      <td>0</td>\n",
       "      <td>0</td>\n",
       "      <td>0</td>\n",
       "      <td>0</td>\n",
       "      <td>-1</td>\n",
       "    </tr>\n",
       "    <tr>\n",
       "      <th>2</th>\n",
       "      <td>brandin</td>\n",
       "      <td>0</td>\n",
       "      <td>0</td>\n",
       "      <td>0</td>\n",
       "      <td>0</td>\n",
       "      <td>-1</td>\n",
       "    </tr>\n",
       "    <tr>\n",
       "      <th>3</th>\n",
       "      <td>darry</td>\n",
       "      <td>0</td>\n",
       "      <td>0</td>\n",
       "      <td>0</td>\n",
       "      <td>0</td>\n",
       "      <td>-1</td>\n",
       "    </tr>\n",
       "    <tr>\n",
       "      <th>4</th>\n",
       "      <td>tresa</td>\n",
       "      <td>0</td>\n",
       "      <td>0</td>\n",
       "      <td>0</td>\n",
       "      <td>0</td>\n",
       "      <td>-1</td>\n",
       "    </tr>\n",
       "    <tr>\n",
       "      <th>5</th>\n",
       "      <td>fabiola</td>\n",
       "      <td>0</td>\n",
       "      <td>0</td>\n",
       "      <td>0</td>\n",
       "      <td>0</td>\n",
       "      <td>-1</td>\n",
       "    </tr>\n",
       "  </tbody>\n",
       "</table>\n",
       "</div>"
      ],
      "text/plain": [
       "       name  #Consonants  ...  Name starting with a vowel?  label\n",
       "1  brittani            0  ...                            0     -1\n",
       "2   brandin            0  ...                            0     -1\n",
       "3     darry            0  ...                            0     -1\n",
       "4     tresa            0  ...                            0     -1\n",
       "5   fabiola            0  ...                            0     -1\n",
       "\n",
       "[5 rows x 6 columns]"
      ]
     },
     "execution_count": 95,
     "metadata": {},
     "output_type": "execute_result"
    }
   ],
   "source": [
    "df_test.head()"
   ]
  },
  {
   "cell_type": "code",
   "execution_count": 96,
   "metadata": {
    "id": "rqvLvplUz5AD"
   },
   "outputs": [],
   "source": [
    "# Exporting the output as a csv file\n",
    "df_test.to_csv('test_output.csv', index=False)"
   ]
  },
  {
   "cell_type": "code",
   "execution_count": null,
   "metadata": {},
   "outputs": [],
   "source": []
  }
 ],
 "metadata": {
  "colab": {
   "collapsed_sections": [],
   "name": "HW2_final.ipynb",
   "provenance": []
  },
  "kernelspec": {
   "display_name": "Python 3",
   "language": "python",
   "name": "python3"
  },
  "language_info": {
   "codemirror_mode": {
    "name": "ipython",
    "version": 3
   },
   "file_extension": ".py",
   "mimetype": "text/x-python",
   "name": "python",
   "nbconvert_exporter": "python",
   "pygments_lexer": "ipython3",
   "version": "3.8.8"
  }
 },
 "nbformat": 4,
 "nbformat_minor": 1
}
